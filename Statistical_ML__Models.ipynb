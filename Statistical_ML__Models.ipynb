{
  "cells": [
    {
      "cell_type": "code",
      "execution_count": null,
      "id": "182462d6",
      "metadata": {
        "id": "182462d6"
      },
      "outputs": [],
      "source": [
        "import pandas as pd\n",
        "train_dataset = pd.read_csv(\"train_embed_clean.csv\")\n",
        "test_dataset = pd.read_csv(\"test_embed_clean.csv\")"
      ]
    },
    {
      "cell_type": "code",
      "execution_count": null,
      "id": "dd6dcd41",
      "metadata": {
        "id": "dd6dcd41"
      },
      "outputs": [],
      "source": [
        "import numpy as np\n",
        "from sklearn.naive_bayes import MultinomialNB\n",
        "from sklearn.feature_extraction.text import CountVectorizer\n",
        "from collections import Counter\n",
        "from sklearn.model_selection import train_test_split\n",
        "from sklearn.feature_extraction.text import TfidfTransformer\n",
        "X = train_dataset['text']\n",
        "y = train_dataset['target']\n",
        "X_test = test_dataset['text']\n",
        "# X_train, X_val, y_train, y_val = train_test_split(X, y, random_state=1, train_size = 0.80)\n",
        "# nb = MultinomialNB()\n"
      ]
    },
    {
      "cell_type": "code",
      "execution_count": null,
      "id": "43a9df7e",
      "metadata": {
        "id": "43a9df7e"
      },
      "outputs": [],
      "source": [
        "from sklearn.feature_extraction.text import CountVectorizer\n",
        "from sklearn.feature_extraction.text import TfidfVectorizer\n",
        "vect = CountVectorizer()\n",
        "X_train= vect.fit_transform(X)\n",
        "X_test = vect.transform(X_test)\n",
        "#X_val = vect.transform(X_val)\n",
        "#clean is a function we defined for pre-processing, seen in the notebook. X_train_dtm = vect.fit_transform(X_train)"
      ]
    },
    {
      "cell_type": "markdown",
      "source": [
        "## Logistic Regression"
      ],
      "metadata": {
        "id": "Sodvj3g6qKO-"
      },
      "id": "Sodvj3g6qKO-"
    },
    {
      "cell_type": "code",
      "execution_count": null,
      "id": "a4cd3a26",
      "metadata": {
        "id": "a4cd3a26"
      },
      "outputs": [],
      "source": [
        "from sklearn.linear_model import LogisticRegression\n",
        "import sklearn.metrics as metrics\n",
        "logreg = LogisticRegression(class_weight=\"balanced\")\n",
        "logreg.fit(X_train, y)\n",
        "y_pred_class = list(logreg.predict(X_test))\n",
        "# print(\"Accuracy: \", metrics.accuracy_score(y, y_pred_class))"
      ]
    },
    {
      "cell_type": "markdown",
      "source": [
        "## Naive Bayes"
      ],
      "metadata": {
        "id": "tOoysUgoqMed"
      },
      "id": "tOoysUgoqMed"
    },
    {
      "cell_type": "code",
      "execution_count": null,
      "id": "6cb2a14d",
      "metadata": {
        "id": "6cb2a14d"
      },
      "outputs": [],
      "source": [
        "from sklearn import model_selection, naive_bayes, svm\n",
        "Naive = naive_bayes.MultinomialNB()\n",
        "Naive.fit(X_train, y)\n",
        "y_pred_class = list(Naive.predict(X_test))"
      ]
    },
    {
      "cell_type": "markdown",
      "source": [
        "## Support Vector Machine"
      ],
      "metadata": {
        "id": "WRYCP9LmqO0d"
      },
      "id": "WRYCP9LmqO0d"
    },
    {
      "cell_type": "code",
      "execution_count": null,
      "id": "682628c2",
      "metadata": {
        "id": "682628c2"
      },
      "outputs": [],
      "source": [
        "SVM = svm.SVC(C=0.09, kernel='linear', gamma='auto')\n",
        "SVM.fit(X_train, y)\n",
        "y_pred_class = list(SVM.predict(X_test))\n",
        "# print(\"C = \", i, \"F1: \", metrics.f1_score(y_val, y_pred_class)) --> Used for hyperparameter tuning"
      ]
    }
  ],
  "metadata": {
    "kernelspec": {
      "display_name": "Python 3 (ipykernel)",
      "language": "python",
      "name": "python3"
    },
    "language_info": {
      "codemirror_mode": {
        "name": "ipython",
        "version": 3
      },
      "file_extension": ".py",
      "mimetype": "text/x-python",
      "name": "python",
      "nbconvert_exporter": "python",
      "pygments_lexer": "ipython3",
      "version": "3.8.9"
    },
    "colab": {
      "name": "Statistical_ML_ Models.ipynb",
      "provenance": []
    }
  },
  "nbformat": 4,
  "nbformat_minor": 5
}