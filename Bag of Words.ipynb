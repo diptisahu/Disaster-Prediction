{
 "cells": [
  {
   "cell_type": "code",
   "execution_count": 129,
   "id": "1ef04021",
   "metadata": {},
   "outputs": [],
   "source": [
    "import numpy as np\n",
    "import pandas as pd\n",
    "import re\n",
    "import torch\n",
    "import torch.nn as nn\n",
    "import torch.nn.functional as F\n",
    "import torch.optim as optim\n",
    "import pickle\n",
    "\n",
    "from sklearn.metrics import f1_score\n",
    "from torch.utils.data import TensorDataset, DataLoader\n",
    "from sklearn.feature_extraction.text import CountVectorizer, TfidfVectorizer\n",
    "from sklearn.model_selection import train_test_split"
   ]
  },
  {
   "cell_type": "code",
   "execution_count": 130,
   "id": "6e873dea",
   "metadata": {},
   "outputs": [
    {
     "data": {
      "text/html": [
       "<div>\n",
       "<style scoped>\n",
       "    .dataframe tbody tr th:only-of-type {\n",
       "        vertical-align: middle;\n",
       "    }\n",
       "\n",
       "    .dataframe tbody tr th {\n",
       "        vertical-align: top;\n",
       "    }\n",
       "\n",
       "    .dataframe thead th {\n",
       "        text-align: right;\n",
       "    }\n",
       "</style>\n",
       "<table border=\"1\" class=\"dataframe\">\n",
       "  <thead>\n",
       "    <tr style=\"text-align: right;\">\n",
       "      <th></th>\n",
       "      <th>id</th>\n",
       "      <th>keyword</th>\n",
       "      <th>location</th>\n",
       "      <th>text</th>\n",
       "      <th>target</th>\n",
       "    </tr>\n",
       "  </thead>\n",
       "  <tbody>\n",
       "    <tr>\n",
       "      <th>0</th>\n",
       "      <td>1</td>\n",
       "      <td>NaN</td>\n",
       "      <td>NaN</td>\n",
       "      <td>Our Deeds are the Reason of this #earthquake M...</td>\n",
       "      <td>1</td>\n",
       "    </tr>\n",
       "    <tr>\n",
       "      <th>1</th>\n",
       "      <td>4</td>\n",
       "      <td>NaN</td>\n",
       "      <td>NaN</td>\n",
       "      <td>Forest fire near La Ronge Sask. Canada</td>\n",
       "      <td>1</td>\n",
       "    </tr>\n",
       "    <tr>\n",
       "      <th>2</th>\n",
       "      <td>5</td>\n",
       "      <td>NaN</td>\n",
       "      <td>NaN</td>\n",
       "      <td>All residents asked to 'shelter in place' are ...</td>\n",
       "      <td>1</td>\n",
       "    </tr>\n",
       "    <tr>\n",
       "      <th>3</th>\n",
       "      <td>6</td>\n",
       "      <td>NaN</td>\n",
       "      <td>NaN</td>\n",
       "      <td>13,000 people receive #wildfires evacuation or...</td>\n",
       "      <td>1</td>\n",
       "    </tr>\n",
       "    <tr>\n",
       "      <th>4</th>\n",
       "      <td>7</td>\n",
       "      <td>NaN</td>\n",
       "      <td>NaN</td>\n",
       "      <td>Just got sent this photo from Ruby #Alaska as ...</td>\n",
       "      <td>1</td>\n",
       "    </tr>\n",
       "  </tbody>\n",
       "</table>\n",
       "</div>"
      ],
      "text/plain": [
       "   id keyword location                                               text  \\\n",
       "0   1     NaN      NaN  Our Deeds are the Reason of this #earthquake M...   \n",
       "1   4     NaN      NaN             Forest fire near La Ronge Sask. Canada   \n",
       "2   5     NaN      NaN  All residents asked to 'shelter in place' are ...   \n",
       "3   6     NaN      NaN  13,000 people receive #wildfires evacuation or...   \n",
       "4   7     NaN      NaN  Just got sent this photo from Ruby #Alaska as ...   \n",
       "\n",
       "   target  \n",
       "0       1  \n",
       "1       1  \n",
       "2       1  \n",
       "3       1  \n",
       "4       1  "
      ]
     },
     "execution_count": 130,
     "metadata": {},
     "output_type": "execute_result"
    }
   ],
   "source": [
    "df = pd.read_csv('train.csv')\n",
    "df.head()"
   ]
  },
  {
   "cell_type": "code",
   "execution_count": 131,
   "id": "85d1f70d",
   "metadata": {},
   "outputs": [],
   "source": [
    "def clean(text):\n",
    "    \"\"\" Function to clean the text \"\"\"\n",
    "    text = text.lower()\n",
    "    text = re.sub(r'^https?:\\/\\/.*[\\r\\n]*', '', text, flags=re.MULTILINE)\n",
    "    texter = re.sub(r\"<br />\", \" \", text)\n",
    "    texter = re.sub(r\"&quot;\", \"\\\"\",texter)\n",
    "    texter = re.sub('&#39;', \"\\\"\", texter)\n",
    "    texter = re.sub('\\n', \" \", texter)\n",
    "    texter = re.sub(' u ',\" you \", texter)\n",
    "    texter = re.sub('`',\"\", texter)\n",
    "    texter = re.sub(' +', ' ', texter)\n",
    "    texter = re.sub(r\"(!)\\1+\", r\"!\", texter)\n",
    "    texter = re.sub(r\"(\\?)\\1+\", r\"?\", texter)\n",
    "    texter = re.sub('&amp;', 'and', texter)\n",
    "    texter = re.sub('\\r', ' ',texter)\n",
    "    \n",
    "    # Remove numbers from string\n",
    "    texter = re.sub(pattern=r\"[+-]?\\d+(?:\\.\\d+)?\", repl=\"\", string=texter, count=0, flags=0)\n",
    "    texter = texter.replace(\"  \", \" \")\n",
    "    clean = re.compile('<.*?>')\n",
    "    texter = texter.encode('ascii', 'ignore').decode('ascii')\n",
    "    texter = re.sub(clean, '', texter)\n",
    "    texter = re.sub(r'[^\\w\\s]', '', texter)\n",
    "    if texter == \"\":\n",
    "        texter = \"\"\n",
    "    return texter"
   ]
  },
  {
   "cell_type": "code",
   "execution_count": 132,
   "id": "ffe48e3c",
   "metadata": {},
   "outputs": [],
   "source": [
    "clean_X = []\n",
    "for item in df['text']:\n",
    "    item = clean(item)\n",
    "    clean_X.append(item)"
   ]
  },
  {
   "cell_type": "code",
   "execution_count": 133,
   "id": "e9ad087f",
   "metadata": {},
   "outputs": [],
   "source": [
    "vectorizer = CountVectorizer()\n",
    "X = np.array(vectorizer.fit_transform(clean_X).toarray())\n",
    "y = np.array(df['target'])"
   ]
  },
  {
   "cell_type": "code",
   "execution_count": 87,
   "id": "9fa2a7eb",
   "metadata": {},
   "outputs": [],
   "source": [
    "# vectorizer = TfidfVectorizer(min_df=3)\n",
    "# X = np.array(vectorizer.fit_transform(clean_X).toarray())\n",
    "# y = np.array(df['target'])"
   ]
  },
  {
   "cell_type": "code",
   "execution_count": 134,
   "id": "235f5a6c",
   "metadata": {},
   "outputs": [
    {
     "data": {
      "text/plain": [
       "(7613, 21344)"
      ]
     },
     "execution_count": 134,
     "metadata": {},
     "output_type": "execute_result"
    }
   ],
   "source": [
    "X.shape"
   ]
  },
  {
   "cell_type": "code",
   "execution_count": 158,
   "id": "cb717ba6",
   "metadata": {},
   "outputs": [],
   "source": [
    "# Hyperparameters\n",
    "num_epochs = 10\n",
    "batch_size = 128\n",
    "learning_rate = 0.00001\n",
    "dropout = 0.25"
   ]
  },
  {
   "cell_type": "code",
   "execution_count": 159,
   "id": "295771c1",
   "metadata": {},
   "outputs": [],
   "source": [
    "X_train, X_test, y_train, y_test = train_test_split(X, y, test_size=0.15, random_state=42)\n",
    "\n",
    "X_tr = torch.tensor(X_train, dtype=torch.float)\n",
    "y_tr = torch.tensor(y_train)\n",
    "train = TensorDataset(X_tr, y_tr)\n",
    "trainloader = DataLoader(train, batch_size=batch_size)\n",
    "\n",
    "X_te = torch.tensor(X_test, dtype=torch.float)\n",
    "y_te = torch.tensor(y_test)\n",
    "test = TensorDataset(X_te, y_te)\n",
    "testloader = DataLoader(test)"
   ]
  },
  {
   "cell_type": "code",
   "execution_count": 160,
   "id": "5b749b2b",
   "metadata": {},
   "outputs": [],
   "source": [
    "class Net(nn.Module):\n",
    "    \n",
    "    def __init__(self):\n",
    "        super().__init__()\n",
    "        self.fc1 = nn.Linear(21344, 500)\n",
    "#         self.fc1 = nn.Linear(4271, 500)\n",
    "        self.hidden1 = nn.Linear(500, 500)\n",
    "        self.hidden2 = nn.Linear(500, 500)\n",
    "        self.fc2 = nn.Linear(500, 2)\n",
    "        self.dropout = nn.Dropout(0.25)\n",
    "        \n",
    "        self.batchnorm1 = nn.BatchNorm1d(500)\n",
    "        self.batchnorm2 = nn.BatchNorm1d(500)\n",
    "        self.batchnorm3 = nn.BatchNorm1d(500)\n",
    "\n",
    "    def forward(self, x):\n",
    "        x = F.relu(self.fc1(x))\n",
    "        x = self.batchnorm1(x)\n",
    "        x = self.dropout(x)\n",
    "        x = F.relu(self.hidden1(x))\n",
    "        x = self.batchnorm2(x)\n",
    "        x = self.dropout(x)\n",
    "        x = F.relu(self.hidden2(x))\n",
    "        x = self.batchnorm3(x)\n",
    "        x = self.dropout(x)\n",
    "#         x = self.fc2(x)\n",
    "        x = F.log_softmax(self.fc2(x), dim=1)\n",
    "        return x\n",
    "\n",
    "net = Net()"
   ]
  },
  {
   "cell_type": "code",
   "execution_count": 161,
   "id": "eb0481b5",
   "metadata": {},
   "outputs": [],
   "source": [
    "# Loss function\n",
    "criterion = nn.CrossEntropyLoss()\n",
    "\n",
    "# create your optimizer\n",
    "optimizer = optim.Adam(net.parameters(), lr=learning_rate)"
   ]
  },
  {
   "cell_type": "code",
   "execution_count": 162,
   "id": "99ad3948",
   "metadata": {},
   "outputs": [
    {
     "name": "stdout",
     "output_type": "stream",
     "text": [
      "Epoch [1/10], Loss: 0.7008\n",
      "Accuracy of the model is: 56.13%\n",
      "Epoch [2/10], Loss: 0.5563\n",
      "Accuracy of the model is: 68.56%\n",
      "Epoch [3/10], Loss: 0.5065\n",
      "Accuracy of the model is: 71.37%\n",
      "Epoch [4/10], Loss: 0.4358\n",
      "Accuracy of the model is: 73.47%\n",
      "Epoch [5/10], Loss: 0.3621\n",
      "Accuracy of the model is: 74.87%\n",
      "Epoch [6/10], Loss: 0.3777\n",
      "Accuracy of the model is: 76.62%\n",
      "Epoch [7/10], Loss: 0.2779\n",
      "Accuracy of the model is: 76.80%\n",
      "Epoch [8/10], Loss: 0.2461\n",
      "Accuracy of the model is: 76.97%\n",
      "Epoch [9/10], Loss: 0.2166\n",
      "Accuracy of the model is: 77.50%\n",
      "Epoch [10/10], Loss: 0.1760\n",
      "Accuracy of the model is: 77.23%\n"
     ]
    }
   ],
   "source": [
    "# Training\n",
    "net.train()\n",
    "training_loss = []\n",
    "for epoch in range(num_epochs):\n",
    "    net.train()\n",
    "    for i, data in enumerate(trainloader):\n",
    "        inputs, labels = data\n",
    "\n",
    "        outputs = net(inputs)\n",
    "        loss = criterion(outputs, labels)\n",
    "        training_loss.append(loss.item())\n",
    "        \n",
    "        optimizer.zero_grad()\n",
    "        loss.backward()\n",
    "        optimizer.step()\n",
    "\n",
    "    print ('Epoch [%d/%d], Loss: %.4f'\n",
    "                   %(epoch+1, num_epochs, loss.data))\n",
    "    \n",
    "    net.eval()\n",
    "    outputs = net(X_te)\n",
    "    _, predicted = torch.max(outputs, 1)\n",
    "    total = y_te.size(0)\n",
    "    correct = (predicted == y_te).sum()\n",
    "    print(f'Accuracy of the model is: {100*correct/total:.2f}%')"
   ]
  },
  {
   "cell_type": "code",
   "execution_count": 163,
   "id": "e4507e01",
   "metadata": {},
   "outputs": [
    {
     "name": "stdout",
     "output_type": "stream",
     "text": [
      "Accuracy of the model is: 77.23%\n"
     ]
    }
   ],
   "source": [
    "# Validation\n",
    "net.eval()\n",
    "outputs = net(X_te)\n",
    "\n",
    "_, predicted = torch.max(outputs, 1)\n",
    "\n",
    "total = y_te.size(0)\n",
    "correct = (predicted == y_te).sum()\n",
    "\n",
    "print(f'Accuracy of the model is: {100*correct/total:.2f}%')"
   ]
  },
  {
   "cell_type": "code",
   "execution_count": 164,
   "id": "16077786",
   "metadata": {},
   "outputs": [
    {
     "data": {
      "text/plain": [
       "0.7123893805309734"
      ]
     },
     "execution_count": 164,
     "metadata": {},
     "output_type": "execute_result"
    }
   ],
   "source": [
    "f1_score(y_te,predicted)"
   ]
  },
  {
   "cell_type": "code",
   "execution_count": 165,
   "id": "dcb6c869",
   "metadata": {},
   "outputs": [
    {
     "data": {
      "text/html": [
       "<div>\n",
       "<style scoped>\n",
       "    .dataframe tbody tr th:only-of-type {\n",
       "        vertical-align: middle;\n",
       "    }\n",
       "\n",
       "    .dataframe tbody tr th {\n",
       "        vertical-align: top;\n",
       "    }\n",
       "\n",
       "    .dataframe thead th {\n",
       "        text-align: right;\n",
       "    }\n",
       "</style>\n",
       "<table border=\"1\" class=\"dataframe\">\n",
       "  <thead>\n",
       "    <tr style=\"text-align: right;\">\n",
       "      <th></th>\n",
       "      <th>id</th>\n",
       "      <th>keyword</th>\n",
       "      <th>location</th>\n",
       "      <th>text</th>\n",
       "    </tr>\n",
       "  </thead>\n",
       "  <tbody>\n",
       "    <tr>\n",
       "      <th>0</th>\n",
       "      <td>0</td>\n",
       "      <td>NaN</td>\n",
       "      <td>NaN</td>\n",
       "      <td>Just happened a terrible car crash</td>\n",
       "    </tr>\n",
       "    <tr>\n",
       "      <th>1</th>\n",
       "      <td>2</td>\n",
       "      <td>NaN</td>\n",
       "      <td>NaN</td>\n",
       "      <td>Heard about #earthquake is different cities, s...</td>\n",
       "    </tr>\n",
       "    <tr>\n",
       "      <th>2</th>\n",
       "      <td>3</td>\n",
       "      <td>NaN</td>\n",
       "      <td>NaN</td>\n",
       "      <td>there is a forest fire at spot pond, geese are...</td>\n",
       "    </tr>\n",
       "    <tr>\n",
       "      <th>3</th>\n",
       "      <td>9</td>\n",
       "      <td>NaN</td>\n",
       "      <td>NaN</td>\n",
       "      <td>Apocalypse lighting. #Spokane #wildfires</td>\n",
       "    </tr>\n",
       "    <tr>\n",
       "      <th>4</th>\n",
       "      <td>11</td>\n",
       "      <td>NaN</td>\n",
       "      <td>NaN</td>\n",
       "      <td>Typhoon Soudelor kills 28 in China and Taiwan</td>\n",
       "    </tr>\n",
       "  </tbody>\n",
       "</table>\n",
       "</div>"
      ],
      "text/plain": [
       "   id keyword location                                               text\n",
       "0   0     NaN      NaN                 Just happened a terrible car crash\n",
       "1   2     NaN      NaN  Heard about #earthquake is different cities, s...\n",
       "2   3     NaN      NaN  there is a forest fire at spot pond, geese are...\n",
       "3   9     NaN      NaN           Apocalypse lighting. #Spokane #wildfires\n",
       "4  11     NaN      NaN      Typhoon Soudelor kills 28 in China and Taiwan"
      ]
     },
     "execution_count": 165,
     "metadata": {},
     "output_type": "execute_result"
    }
   ],
   "source": [
    "df_test = pd.read_csv('test.csv')\n",
    "df_test.head()"
   ]
  },
  {
   "cell_type": "code",
   "execution_count": 174,
   "id": "efc39893",
   "metadata": {},
   "outputs": [],
   "source": [
    "clean_X_test = []\n",
    "for item in df_test['text']:\n",
    "    item = clean(item)\n",
    "    clean_X_test.append(item)\n",
    "    \n",
    "X_test = np.array(vectorizer.transform(clean_X_test).toarray())\n",
    "X_test = torch.tensor(X_test, dtype=torch.float)"
   ]
  },
  {
   "cell_type": "code",
   "execution_count": 175,
   "id": "0c661443",
   "metadata": {},
   "outputs": [],
   "source": [
    "# Testing\n",
    "net.eval()\n",
    "outputs_test = net(X_test)\n",
    "\n",
    "_, predicted_test = torch.max(outputs_test, 1)"
   ]
  },
  {
   "cell_type": "code",
   "execution_count": 176,
   "id": "010e130b",
   "metadata": {},
   "outputs": [],
   "source": [
    "data = {'id': np.array(df_test['id']),\n",
    "       'target': np.array(predicted_test)}"
   ]
  },
  {
   "cell_type": "code",
   "execution_count": 177,
   "id": "a6139cbe",
   "metadata": {},
   "outputs": [],
   "source": [
    "df_submission = pd.DataFrame(data)\n",
    "df_submission.to_csv('submission_bow.csv', encoding='utf-8', index=False)"
   ]
  },
  {
   "cell_type": "code",
   "execution_count": null,
   "id": "ae6aebad",
   "metadata": {},
   "outputs": [],
   "source": []
  }
 ],
 "metadata": {
  "kernelspec": {
   "display_name": "Python 3 (ipykernel)",
   "language": "python",
   "name": "python3"
  },
  "language_info": {
   "codemirror_mode": {
    "name": "ipython",
    "version": 3
   },
   "file_extension": ".py",
   "mimetype": "text/x-python",
   "name": "python",
   "nbconvert_exporter": "python",
   "pygments_lexer": "ipython3",
   "version": "3.9.7"
  }
 },
 "nbformat": 4,
 "nbformat_minor": 5
}
