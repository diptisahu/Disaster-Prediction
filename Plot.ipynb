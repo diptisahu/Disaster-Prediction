{
 "cells": [
  {
   "cell_type": "code",
   "execution_count": null,
   "id": "daf71fb9",
   "metadata": {},
   "outputs": [],
   "source": [
    "from matplotlib import pyplot as plt\n",
    "\n",
    "dnn_acc = []\n",
    "lstm_acc = []\n",
    "\n",
    "noise_scale = ['0', '0.05', '0.1', '0.2', '0.3']\n",
    "\n",
    "\n",
    "fig = plt.figure()\n",
    "plt.plot(training_loss_)\n",
    "plt.plot(validation_loss_)\n",
    "plt.legend([\"Training Loss\", \"Validation Loss\"])\n",
    "plt.ylabel('Loss')\n",
    "plt.xlabel('Epochs')\n",
    "plt.show()\n",
    "fig.savefig(folder_name + 'loss_vs_epoch.png')"
   ]
  }
 ],
 "metadata": {
  "kernelspec": {
   "display_name": "Python 3 (ipykernel)",
   "language": "python",
   "name": "python3"
  },
  "language_info": {
   "codemirror_mode": {
    "name": "ipython",
    "version": 3
   },
   "file_extension": ".py",
   "mimetype": "text/x-python",
   "name": "python",
   "nbconvert_exporter": "python",
   "pygments_lexer": "ipython3",
   "version": "3.9.7"
  }
 },
 "nbformat": 4,
 "nbformat_minor": 5
}
